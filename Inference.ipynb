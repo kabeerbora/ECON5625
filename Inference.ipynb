{
  "nbformat": 4,
  "nbformat_minor": 0,
  "metadata": {
    "colab": {
      "provenance": [],
      "authorship_tag": "ABX9TyOQd7YPCq9mF0bOW+JJAuKj",
      "include_colab_link": true
    },
    "kernelspec": {
      "name": "python3",
      "display_name": "Python 3"
    },
    "language_info": {
      "name": "python"
    }
  },
  "cells": [
    {
      "cell_type": "markdown",
      "metadata": {
        "id": "view-in-github",
        "colab_type": "text"
      },
      "source": [
        "<a href=\"https://colab.research.google.com/github/kabeerbora/ECON5625/blob/main/Inference.ipynb\" target=\"_parent\"><img src=\"https://colab.research.google.com/assets/colab-badge.svg\" alt=\"Open In Colab\"/></a>"
      ]
    },
    {
      "cell_type": "code",
      "execution_count": 5,
      "metadata": {
        "colab": {
          "base_uri": "https://localhost:8080/"
        },
        "id": "3OKR5hDZdQwO",
        "outputId": "57c4cb4b-6cc4-4d0a-a2da-8cb13708d11f"
      },
      "outputs": [
        {
          "output_type": "execute_result",
          "data": {
            "text/plain": [
              "np.float64(0.50137)"
            ]
          },
          "metadata": {},
          "execution_count": 5
        }
      ],
      "source": [
        "import numpy as np\n",
        "import matplotlib.pyplot as plt\n",
        "\n",
        "np.random.seed(42)\n",
        "\n",
        "group1 = np.random.normal(loc=10, scale=2, size=30)  # Mean=10, SD=2, n=30\n",
        "group2 = np.random.normal(loc=11, scale=2, size=30)  # Mean=11, SD=2, n=30\n",
        "\n",
        "observed_diff = np.mean(group2) - np.mean(group1)\n",
        "\n",
        "def bootstrap_diff_means(data1, data2, n_bootstraps=1000000):\n",
        "    boot_diffs = []\n",
        "    n1, n2 = len(data1), len(data2)\n",
        "    for _ in range(n_bootstraps):\n",
        "\n",
        "        sample1 = np.random.choice(data1, size=n1, replace=True)\n",
        "        sample2 = np.random.choice(data2, size=n2, replace=True)\n",
        "        # Compute difference in means\n",
        "        boot_diff = np.mean(sample2) - np.mean(sample1)\n",
        "        boot_diffs.append(boot_diff)\n",
        "    return np.array(boot_diffs)\n",
        "bootstrap_diffs = bootstrap_diff_means(group1, group2)\n",
        "p_value = np.mean(np.abs(bootstrap_diffs) >= np.abs(observed_diff))\n",
        "\n",
        "ci_lower, ci_upper = np.percentile(bootstrap_diffs, [2.5, 97.5])\n",
        "\n",
        "print(f\"Observed difference in means: {observed_diff:.3f}\")\n",
        "print(f\"Bootstrap p-value: {p_value:.3f}\")\n",
        "print(f\"95% CI for difference: [{ci_lower:.3f}, {ci_upper:.3f}]\")\n",
        "plt.hist(bootstrap_diffs, bins=30, edgecolor='k', alpha=0.7)\n",
        "plt.axvline(observed_diff, color='r', linestyle='--', label='Observed Diff')\n",
        "plt.axvline(ci_lower, color='g', linestyle='--', label='95% CI')\n",
        "plt.axvline(ci_upper, color='g', linestyle='--')\n",
        "plt.title('Bootstrap Distribution of Difference in Means')\n",
        "plt.xlabel('Difference in Means')\n",
        "plt.ylabel('Frequency')\n",
        "plt.legend()\n",
        "plt.show()"
      ]
    }
  ]
}